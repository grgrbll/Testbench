{
 "cells": [
  {
   "cell_type": "code",
   "execution_count": 1,
   "id": "a5d0073e-4392-4474-85bf-33b6700f23d5",
   "metadata": {},
   "outputs": [
    {
     "name": "stdout",
     "output_type": "stream",
     "text": [
      "helloworld\n"
     ]
    }
   ],
   "source": [
    "print('helloworld')"
   ]
  },
  {
   "cell_type": "code",
   "execution_count": 2,
   "id": "a6d98afb-7769-445f-9297-bb92e16bbe82",
   "metadata": {},
   "outputs": [],
   "source": [
    "import pyscripts.helpers as t"
   ]
  },
  {
   "cell_type": "code",
   "execution_count": 3,
   "id": "bc9f6b4b-488b-417e-a549-d326dfda6f05",
   "metadata": {},
   "outputs": [
    {
     "name": "stderr",
     "output_type": "stream",
     "text": [
      "rm: ./build/*: No such file or directory\n"
     ]
    }
   ],
   "source": [
    "t.clean()"
   ]
  },
  {
   "cell_type": "code",
   "execution_count": 4,
   "id": "b1c4ef0e-bf5e-4a65-b17b-2d467b1a5b60",
   "metadata": {},
   "outputs": [
    {
     "name": "stdout",
     "output_type": "stream",
     "text": [
      "-- The C compiler identification is AppleClang 12.0.0.12000032\n",
      "-- The CXX compiler identification is AppleClang 12.0.0.12000032\n",
      "-- Detecting C compiler ABI info\n",
      "-- Detecting C compiler ABI info - done\n",
      "-- Check for working C compiler: /Applications/Xcode.app/Contents/Developer/Toolchains/XcodeDefault.xctoolchain/usr/bin/cc - skipped\n",
      "-- Detecting C compile features\n",
      "-- Detecting C compile features - done\n",
      "-- Detecting CXX compiler ABI info\n",
      "-- Detecting CXX compiler ABI info - done\n",
      "-- Check for working CXX compiler: /Applications/Xcode.app/Contents/Developer/Toolchains/XcodeDefault.xctoolchain/usr/bin/c++ - skipped\n",
      "-- Detecting CXX compile features\n",
      "-- Detecting CXX compile features - done\n",
      "-- Looking for pthread.h\n",
      "-- Looking for pthread.h - found\n",
      "-- Performing Test CMAKE_HAVE_LIBC_PTHREAD\n",
      "-- Performing Test CMAKE_HAVE_LIBC_PTHREAD - Success\n",
      "-- Found Threads: TRUE  \n",
      "-- Configuring done\n",
      "-- Generating done\n",
      "-- Build files have been written to: /Users/apple/Dropbox/portfolio/CppSamples/build\n",
      "Scanning dependencies of target main\n",
      "[ 25%] Building CXX object tests/CMakeFiles/main.dir/main.cpp.o\n",
      "[ 50%] Linking CXX executable main\n",
      "[ 50%] Built target main\n",
      "Scanning dependencies of target cmakeproj\n",
      "[ 75%] Building CXX object utils/CMakeFiles/cmakeproj.dir/main.cpp.o\n",
      "[100%] Linking CXX executable cmakeproj\n",
      "[100%] Built target cmakeproj\n"
     ]
    }
   ],
   "source": [
    "t.prebuild()\n",
    "t.build()"
   ]
  },
  {
   "cell_type": "code",
   "execution_count": null,
   "id": "c4f4b4ee-92d3-4f7c-9464-c239a167aba3",
   "metadata": {},
   "outputs": [],
   "source": []
  }
 ],
 "metadata": {
  "kernelspec": {
   "display_name": "Python 3 (ipykernel)",
   "language": "python",
   "name": "python3"
  },
  "language_info": {
   "codemirror_mode": {
    "name": "ipython",
    "version": 3
   },
   "file_extension": ".py",
   "mimetype": "text/x-python",
   "name": "python",
   "nbconvert_exporter": "python",
   "pygments_lexer": "ipython3",
   "version": "3.8.2"
  }
 },
 "nbformat": 4,
 "nbformat_minor": 5
}
