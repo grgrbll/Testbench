{
 "cells": [
  {
   "cell_type": "code",
   "execution_count": 1,
   "id": "a6d98afb-7769-445f-9297-bb92e16bbe82",
   "metadata": {},
   "outputs": [],
   "source": [
    "import pyscripts.helpers as t"
   ]
  },
  {
   "cell_type": "code",
   "execution_count": 2,
   "id": "bc9f6b4b-488b-417e-a549-d326dfda6f05",
   "metadata": {},
   "outputs": [],
   "source": [
    "t.clean()"
   ]
  },
  {
   "cell_type": "code",
   "execution_count": 3,
   "id": "b1c4ef0e-bf5e-4a65-b17b-2d467b1a5b60",
   "metadata": {},
   "outputs": [
    {
     "name": "stdout",
     "output_type": "stream",
     "text": [
      "-- The C compiler identification is AppleClang 12.0.0.12000032\n",
      "-- The CXX compiler identification is AppleClang 12.0.0.12000032\n",
      "-- Detecting C compiler ABI info\n",
      "-- Detecting C compiler ABI info - done\n",
      "-- Check for working C compiler: /Applications/Xcode.app/Contents/Developer/Toolchains/XcodeDefault.xctoolchain/usr/bin/cc - skipped\n",
      "-- Detecting C compile features\n",
      "-- Detecting C compile features - done\n",
      "-- Detecting CXX compiler ABI info\n",
      "-- Detecting CXX compiler ABI info - done\n",
      "-- Check for working CXX compiler: /Applications/Xcode.app/Contents/Developer/Toolchains/XcodeDefault.xctoolchain/usr/bin/c++ - skipped\n",
      "-- Detecting CXX compile features\n",
      "-- Detecting CXX compile features - done\n",
      "-- Looking for pthread.h\n",
      "-- Looking for pthread.h - found\n",
      "-- Performing Test CMAKE_HAVE_LIBC_PTHREAD\n",
      "-- Performing Test CMAKE_HAVE_LIBC_PTHREAD - Success\n",
      "-- Found Threads: TRUE  \n",
      "-- Configuring done\n",
      "-- Generating done\n",
      "-- Build files have been written to: /Users/apple/Dropbox/portfolio/CppSamples/build\n"
     ]
    }
   ],
   "source": [
    "t.prebuild()"
   ]
  },
  {
   "cell_type": "code",
   "execution_count": 4,
   "id": "c4f4b4ee-92d3-4f7c-9464-c239a167aba3",
   "metadata": {},
   "outputs": [
    {
     "name": "stdout",
     "output_type": "stream",
     "text": [
      "Scanning dependencies of target main\n",
      "[ 20%] Building CXX object tests/CMakeFiles/main.dir/main.cpp.o\n",
      "[ 40%] Building CXX object tests/CMakeFiles/main.dir/immer.cpp.o\n",
      "[ 60%] Linking CXX executable main\n",
      "[ 60%] Built target main\n",
      "Scanning dependencies of target cmakeproj\n",
      "[ 80%] Building CXX object utils/CMakeFiles/cmakeproj.dir/main.cpp.o\n",
      "[100%] Linking CXX executable cmakeproj\n",
      "[100%] Built target cmakeproj\n"
     ]
    }
   ],
   "source": [
    "t.build()"
   ]
  },
  {
   "cell_type": "code",
   "execution_count": 5,
   "id": "eb385260",
   "metadata": {},
   "outputs": [
    {
     "name": "stdout",
     "output_type": "stream",
     "text": [
      "Running main() from gmock_main.cc\n",
      "[==========] Running 5 tests from 2 test suites.\n",
      "[----------] Global test environment set-up.\n",
      "[----------] 2 tests from MultiplyTests\n",
      "[ RUN      ] MultiplyTests.TestIntegerZero_Zero\n",
      "[       OK ] MultiplyTests.TestIntegerZero_Zero (0 ms)\n",
      "[ RUN      ] MultiplyTests.TestIntegerZero_Zero2\n",
      "[       OK ] MultiplyTests.TestIntegerZero_Zero2 (0 ms)\n",
      "[----------] 2 tests from MultiplyTests (0 ms total)\n",
      "\n",
      "[----------] 3 tests from immer\n",
      "[ RUN      ] immer.vector\n",
      "[       OK ] immer.vector (0 ms)\n",
      "[ RUN      ] immer.box_update\n",
      "[       OK ] immer.box_update (0 ms)\n",
      "[ RUN      ] immer.box_assign\n",
      "[       OK ] immer.box_assign (0 ms)\n",
      "[----------] 3 tests from immer (0 ms total)\n",
      "\n",
      "[----------] Global test environment tear-down\n",
      "[==========] 5 tests from 2 test suites ran. (0 ms total)\n",
      "[  PASSED  ] 5 tests.\n"
     ]
    }
   ],
   "source": [
    "t.test()"
   ]
  }
 ],
 "metadata": {
  "kernelspec": {
   "display_name": "Python 3.10.6 64-bit",
   "language": "python",
   "name": "python3"
  },
  "language_info": {
   "codemirror_mode": {
    "name": "ipython",
    "version": 3
   },
   "file_extension": ".py",
   "mimetype": "text/x-python",
   "name": "python",
   "nbconvert_exporter": "python",
   "pygments_lexer": "ipython3",
   "version": "3.10.6"
  },
  "vscode": {
   "interpreter": {
    "hash": "aee8b7b246df8f9039afb4144a1f6fd8d2ca17a180786b69acc140d282b71a49"
   }
  }
 },
 "nbformat": 4,
 "nbformat_minor": 5
}
