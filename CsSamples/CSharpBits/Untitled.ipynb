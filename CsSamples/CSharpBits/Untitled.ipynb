{
 "cells": [
  {
   "cell_type": "code",
   "execution_count": 2,
   "id": "a6d98afb-7769-445f-9297-bb92e16bbe82",
   "metadata": {},
   "outputs": [],
   "source": [
    "import pyscripts.helpers as t"
   ]
  },
  {
   "cell_type": "code",
   "execution_count": null,
   "id": "bc9f6b4b-488b-417e-a549-d326dfda6f05",
   "metadata": {},
   "outputs": [],
   "source": [
    "t.clean()"
   ]
  },
  {
   "cell_type": "code",
   "execution_count": null,
   "id": "b1c4ef0e-bf5e-4a65-b17b-2d467b1a5b60",
   "metadata": {},
   "outputs": [],
   "source": [
    "t.prebuild()"
   ]
  },
  {
   "cell_type": "code",
   "execution_count": 3,
   "id": "c4f4b4ee-92d3-4f7c-9464-c239a167aba3",
   "metadata": {},
   "outputs": [
    {
     "name": "stdout",
     "output_type": "stream",
     "text": [
      "MSBuild version 17.3.0+92e077650 for .NET\n",
      "  Determining projects to restore...\n",
      "  All projects are up-to-date for restore.\n",
      "/Users/apple/Dropbox/portfolio/CsSamples/CSharpBits/Tests/XmlSerialization.cs(20,19): warning CS8618: Non-nullable field 'ShipTo' must contain a non-null value when exiting constructor. Consider declaring the field as nullable. [/Users/apple/Dropbox/portfolio/CsSamples/CSharpBits/Tests/Tests.csproj]\n",
      "/Users/apple/Dropbox/portfolio/CsSamples/CSharpBits/Tests/XmlSerialization.cs(21,18): warning CS8618: Non-nullable field 'OrderDate' must contain a non-null value when exiting constructor. Consider declaring the field as nullable. [/Users/apple/Dropbox/portfolio/CsSamples/CSharpBits/Tests/Tests.csproj]\n",
      "/Users/apple/Dropbox/portfolio/CsSamples/CSharpBits/Tests/XmlSerialization.cs(25,25): warning CS8618: Non-nullable field 'OrderedItems' must contain a non-null value when exiting constructor. Consider declaring the field as nullable. [/Users/apple/Dropbox/portfolio/CsSamples/CSharpBits/Tests/Tests.csproj]\n",
      "/Users/apple/Dropbox/portfolio/CsSamples/CSharpBits/Tests/XmlSerialization.cs(37,18): warning CS8618: Non-nullable field 'Name' must contain a non-null value when exiting constructor. Consider declaring the field as nullable. [/Users/apple/Dropbox/portfolio/CsSamples/CSharpBits/Tests/Tests.csproj]\n",
      "/Users/apple/Dropbox/portfolio/CsSamples/CSharpBits/Tests/XmlSerialization.cs(38,18): warning CS8618: Non-nullable field 'Line1' must contain a non-null value when exiting constructor. Consider declaring the field as nullable. [/Users/apple/Dropbox/portfolio/CsSamples/CSharpBits/Tests/Tests.csproj]\n",
      "/Users/apple/Dropbox/portfolio/CsSamples/CSharpBits/Tests/XmlSerialization.cs(44,18): warning CS8618: Non-nullable field 'City' must contain a non-null value when exiting constructor. Consider declaring the field as nullable. [/Users/apple/Dropbox/portfolio/CsSamples/CSharpBits/Tests/Tests.csproj]\n",
      "/Users/apple/Dropbox/portfolio/CsSamples/CSharpBits/Tests/XmlSerialization.cs(45,18): warning CS8618: Non-nullable field 'State' must contain a non-null value when exiting constructor. Consider declaring the field as nullable. [/Users/apple/Dropbox/portfolio/CsSamples/CSharpBits/Tests/Tests.csproj]\n",
      "/Users/apple/Dropbox/portfolio/CsSamples/CSharpBits/Tests/XmlSerialization.cs(46,18): warning CS8618: Non-nullable field 'Zip' must contain a non-null value when exiting constructor. Consider declaring the field as nullable. [/Users/apple/Dropbox/portfolio/CsSamples/CSharpBits/Tests/Tests.csproj]\n",
      "/Users/apple/Dropbox/portfolio/CsSamples/CSharpBits/Tests/XmlSerialization.cs(51,18): warning CS8618: Non-nullable field 'ItemName' must contain a non-null value when exiting constructor. Consider declaring the field as nullable. [/Users/apple/Dropbox/portfolio/CsSamples/CSharpBits/Tests/Tests.csproj]\n",
      "/Users/apple/Dropbox/portfolio/CsSamples/CSharpBits/Tests/XmlSerialization.cs(52,18): warning CS8618: Non-nullable field 'Description' must contain a non-null value when exiting constructor. Consider declaring the field as nullable. [/Users/apple/Dropbox/portfolio/CsSamples/CSharpBits/Tests/Tests.csproj]\n",
      "/Users/apple/Dropbox/portfolio/CsSamples/CSharpBits/Tests/XmlSerialization.cs(71,7): error CS0246: The type or namespace name 'Test' could not be found (are you missing a using directive or an assembly reference?) [/Users/apple/Dropbox/portfolio/CsSamples/CSharpBits/Tests/Tests.csproj]\n",
      "/Users/apple/Dropbox/portfolio/CsSamples/CSharpBits/Tests/XmlSerialization.cs(71,20): error CS0246: The type or namespace name 'Test' could not be found (are you missing a using directive or an assembly reference?) [/Users/apple/Dropbox/portfolio/CsSamples/CSharpBits/Tests/Tests.csproj]\n",
      "/Users/apple/Dropbox/portfolio/CsSamples/CSharpBits/Tests/XmlSerialization.cs(68,22): warning CS1998: This async method lacks 'await' operators and will run synchronously. Consider using the 'await' operator to await non-blocking API calls, or 'await Task.Run(...)' to do CPU-bound work on a background thread. [/Users/apple/Dropbox/portfolio/CsSamples/CSharpBits/Tests/Tests.csproj]\n",
      "/Users/apple/Dropbox/portfolio/CsSamples/CSharpBits/Tests/SocketNetworking.cs(65,119): warning CS8622: Nullability of reference types in type of parameter 'certificate' of 'bool ValidateServerCertificate(object sender, X509Certificate certificate, X509Chain chain, SslPolicyErrors sslPolicyErrors)' doesn't match the target delegate 'RemoteCertificateValidationCallback' (possibly because of nullability attributes). [/Users/apple/Dropbox/portfolio/CsSamples/CSharpBits/Tests/Tests.csproj]\n",
      "/Users/apple/Dropbox/portfolio/CsSamples/CSharpBits/Tests/SocketNetworking.cs(65,119): warning CS8622: Nullability of reference types in type of parameter 'chain' of 'bool ValidateServerCertificate(object sender, X509Certificate certificate, X509Chain chain, SslPolicyErrors sslPolicyErrors)' doesn't match the target delegate 'RemoteCertificateValidationCallback' (possibly because of nullability attributes). [/Users/apple/Dropbox/portfolio/CsSamples/CSharpBits/Tests/Tests.csproj]\n",
      "/Users/apple/Dropbox/portfolio/CsSamples/CSharpBits/Tests/XmlSerialization.cs(129,56): warning CS8622: Nullability of reference types in type of parameter 'sender' of 'void XmlSerialization.serializer_UnknownNode(object sender, XmlNodeEventArgs e)' doesn't match the target delegate 'XmlNodeEventHandler' (possibly because of nullability attributes). [/Users/apple/Dropbox/portfolio/CsSamples/CSharpBits/Tests/Tests.csproj]\n",
      "/Users/apple/Dropbox/portfolio/CsSamples/CSharpBits/Tests/XmlSerialization.cs(130,66): warning CS8622: Nullability of reference types in type of parameter 'sender' of 'void XmlSerialization.serializer_UnknownAttribute(object sender, XmlAttributeEventArgs e)' doesn't match the target delegate 'XmlAttributeEventHandler' (possibly because of nullability attributes). [/Users/apple/Dropbox/portfolio/CsSamples/CSharpBits/Tests/Tests.csproj]\n",
      "/Users/apple/Dropbox/portfolio/CsSamples/CSharpBits/Tests/XmlSerialization.cs(138,12): warning CS8600: Converting null literal or possible null value to non-nullable type. [/Users/apple/Dropbox/portfolio/CsSamples/CSharpBits/Tests/Tests.csproj]\n",
      "/Users/apple/Dropbox/portfolio/CsSamples/CSharpBits/Tests/XmlSerialization.cs(140,40): warning CS8602: Dereference of a possibly null reference. [/Users/apple/Dropbox/portfolio/CsSamples/CSharpBits/Tests/Tests.csproj]\n",
      "/Users/apple/Dropbox/portfolio/CsSamples/CSharpBits/Tests/Concurrency.cs(61,32): warning CS8600: Converting null literal or possible null value to non-nullable type. [/Users/apple/Dropbox/portfolio/CsSamples/CSharpBits/Tests/Tests.csproj]\n",
      "/Users/apple/Dropbox/portfolio/CsSamples/CSharpBits/Tests/Concurrency.cs(64,31): warning CS8600: Converting null literal or possible null value to non-nullable type. [/Users/apple/Dropbox/portfolio/CsSamples/CSharpBits/Tests/Tests.csproj]\n",
      "/Users/apple/Dropbox/portfolio/CsSamples/CSharpBits/Tests/Concurrency.cs(65,5): warning CS8602: Dereference of a possibly null reference. [/Users/apple/Dropbox/portfolio/CsSamples/CSharpBits/Tests/Tests.csproj]\n",
      "/Users/apple/Dropbox/portfolio/CsSamples/CSharpBits/Tests/Concurrency.cs(65,34): warning CS8604: Possible null reference argument for parameter 'source' in 'IEnumerable<char> Enumerable.Reverse<char>(IEnumerable<char> source)'. [/Users/apple/Dropbox/portfolio/CsSamples/CSharpBits/Tests/Tests.csproj]\n",
      "/Users/apple/Dropbox/portfolio/CsSamples/CSharpBits/Tests/XmlSerialization.cs(172,11): error CS1501: No overload for method 'Information' takes 0 arguments [/Users/apple/Dropbox/portfolio/CsSamples/CSharpBits/Tests/Tests.csproj]\n",
      "/Users/apple/Dropbox/portfolio/CsSamples/CSharpBits/Tests/SocketNetworking.cs(148,9): warning CS0162: Unreachable code detected [/Users/apple/Dropbox/portfolio/CsSamples/CSharpBits/Tests/Tests.csproj]\n",
      "/Users/apple/Dropbox/portfolio/CsSamples/CSharpBits/Tests/SocketNetworking.cs(223,9): warning xUnit2000: The literal or constant value \"Message One\" should be passed as the 'expected' argument in the call to 'Assert.Equal(expected, actual)' in method 'multiclient_tcp_server' on type 'SocketNetworking'. [/Users/apple/Dropbox/portfolio/CsSamples/CSharpBits/Tests/Tests.csproj]\n",
      "/Users/apple/Dropbox/portfolio/CsSamples/CSharpBits/Tests/SocketNetworking.cs(224,9): warning xUnit2000: The literal or constant value \"Message Two\" should be passed as the 'expected' argument in the call to 'Assert.Equal(expected, actual)' in method 'multiclient_tcp_server' on type 'SocketNetworking'. [/Users/apple/Dropbox/portfolio/CsSamples/CSharpBits/Tests/Tests.csproj]\n",
      "\n",
      "Build FAILED.\n",
      "\n",
      "/Users/apple/Dropbox/portfolio/CsSamples/CSharpBits/Tests/XmlSerialization.cs(20,19): warning CS8618: Non-nullable field 'ShipTo' must contain a non-null value when exiting constructor. Consider declaring the field as nullable. [/Users/apple/Dropbox/portfolio/CsSamples/CSharpBits/Tests/Tests.csproj]\n",
      "/Users/apple/Dropbox/portfolio/CsSamples/CSharpBits/Tests/XmlSerialization.cs(21,18): warning CS8618: Non-nullable field 'OrderDate' must contain a non-null value when exiting constructor. Consider declaring the field as nullable. [/Users/apple/Dropbox/portfolio/CsSamples/CSharpBits/Tests/Tests.csproj]\n",
      "/Users/apple/Dropbox/portfolio/CsSamples/CSharpBits/Tests/XmlSerialization.cs(25,25): warning CS8618: Non-nullable field 'OrderedItems' must contain a non-null value when exiting constructor. Consider declaring the field as nullable. [/Users/apple/Dropbox/portfolio/CsSamples/CSharpBits/Tests/Tests.csproj]\n",
      "/Users/apple/Dropbox/portfolio/CsSamples/CSharpBits/Tests/XmlSerialization.cs(37,18): warning CS8618: Non-nullable field 'Name' must contain a non-null value when exiting constructor. Consider declaring the field as nullable. [/Users/apple/Dropbox/portfolio/CsSamples/CSharpBits/Tests/Tests.csproj]\n",
      "/Users/apple/Dropbox/portfolio/CsSamples/CSharpBits/Tests/XmlSerialization.cs(38,18): warning CS8618: Non-nullable field 'Line1' must contain a non-null value when exiting constructor. Consider declaring the field as nullable. [/Users/apple/Dropbox/portfolio/CsSamples/CSharpBits/Tests/Tests.csproj]\n",
      "/Users/apple/Dropbox/portfolio/CsSamples/CSharpBits/Tests/XmlSerialization.cs(44,18): warning CS8618: Non-nullable field 'City' must contain a non-null value when exiting constructor. Consider declaring the field as nullable. [/Users/apple/Dropbox/portfolio/CsSamples/CSharpBits/Tests/Tests.csproj]\n",
      "/Users/apple/Dropbox/portfolio/CsSamples/CSharpBits/Tests/XmlSerialization.cs(45,18): warning CS8618: Non-nullable field 'State' must contain a non-null value when exiting constructor. Consider declaring the field as nullable. [/Users/apple/Dropbox/portfolio/CsSamples/CSharpBits/Tests/Tests.csproj]\n",
      "/Users/apple/Dropbox/portfolio/CsSamples/CSharpBits/Tests/XmlSerialization.cs(46,18): warning CS8618: Non-nullable field 'Zip' must contain a non-null value when exiting constructor. Consider declaring the field as nullable. [/Users/apple/Dropbox/portfolio/CsSamples/CSharpBits/Tests/Tests.csproj]\n",
      "/Users/apple/Dropbox/portfolio/CsSamples/CSharpBits/Tests/XmlSerialization.cs(51,18): warning CS8618: Non-nullable field 'ItemName' must contain a non-null value when exiting constructor. Consider declaring the field as nullable. [/Users/apple/Dropbox/portfolio/CsSamples/CSharpBits/Tests/Tests.csproj]\n",
      "/Users/apple/Dropbox/portfolio/CsSamples/CSharpBits/Tests/XmlSerialization.cs(52,18): warning CS8618: Non-nullable field 'Description' must contain a non-null value when exiting constructor. Consider declaring the field as nullable. [/Users/apple/Dropbox/portfolio/CsSamples/CSharpBits/Tests/Tests.csproj]\n",
      "/Users/apple/Dropbox/portfolio/CsSamples/CSharpBits/Tests/XmlSerialization.cs(68,22): warning CS1998: This async method lacks 'await' operators and will run synchronously. Consider using the 'await' operator to await non-blocking API calls, or 'await Task.Run(...)' to do CPU-bound work on a background thread. [/Users/apple/Dropbox/portfolio/CsSamples/CSharpBits/Tests/Tests.csproj]\n",
      "/Users/apple/Dropbox/portfolio/CsSamples/CSharpBits/Tests/SocketNetworking.cs(65,119): warning CS8622: Nullability of reference types in type of parameter 'certificate' of 'bool ValidateServerCertificate(object sender, X509Certificate certificate, X509Chain chain, SslPolicyErrors sslPolicyErrors)' doesn't match the target delegate 'RemoteCertificateValidationCallback' (possibly because of nullability attributes). [/Users/apple/Dropbox/portfolio/CsSamples/CSharpBits/Tests/Tests.csproj]\n",
      "/Users/apple/Dropbox/portfolio/CsSamples/CSharpBits/Tests/SocketNetworking.cs(65,119): warning CS8622: Nullability of reference types in type of parameter 'chain' of 'bool ValidateServerCertificate(object sender, X509Certificate certificate, X509Chain chain, SslPolicyErrors sslPolicyErrors)' doesn't match the target delegate 'RemoteCertificateValidationCallback' (possibly because of nullability attributes). [/Users/apple/Dropbox/portfolio/CsSamples/CSharpBits/Tests/Tests.csproj]\n",
      "/Users/apple/Dropbox/portfolio/CsSamples/CSharpBits/Tests/XmlSerialization.cs(129,56): warning CS8622: Nullability of reference types in type of parameter 'sender' of 'void XmlSerialization.serializer_UnknownNode(object sender, XmlNodeEventArgs e)' doesn't match the target delegate 'XmlNodeEventHandler' (possibly because of nullability attributes). [/Users/apple/Dropbox/portfolio/CsSamples/CSharpBits/Tests/Tests.csproj]\n",
      "/Users/apple/Dropbox/portfolio/CsSamples/CSharpBits/Tests/XmlSerialization.cs(130,66): warning CS8622: Nullability of reference types in type of parameter 'sender' of 'void XmlSerialization.serializer_UnknownAttribute(object sender, XmlAttributeEventArgs e)' doesn't match the target delegate 'XmlAttributeEventHandler' (possibly because of nullability attributes). [/Users/apple/Dropbox/portfolio/CsSamples/CSharpBits/Tests/Tests.csproj]\n",
      "/Users/apple/Dropbox/portfolio/CsSamples/CSharpBits/Tests/XmlSerialization.cs(138,12): warning CS8600: Converting null literal or possible null value to non-nullable type. [/Users/apple/Dropbox/portfolio/CsSamples/CSharpBits/Tests/Tests.csproj]\n",
      "/Users/apple/Dropbox/portfolio/CsSamples/CSharpBits/Tests/XmlSerialization.cs(140,40): warning CS8602: Dereference of a possibly null reference. [/Users/apple/Dropbox/portfolio/CsSamples/CSharpBits/Tests/Tests.csproj]\n",
      "/Users/apple/Dropbox/portfolio/CsSamples/CSharpBits/Tests/Concurrency.cs(61,32): warning CS8600: Converting null literal or possible null value to non-nullable type. [/Users/apple/Dropbox/portfolio/CsSamples/CSharpBits/Tests/Tests.csproj]\n",
      "/Users/apple/Dropbox/portfolio/CsSamples/CSharpBits/Tests/Concurrency.cs(64,31): warning CS8600: Converting null literal or possible null value to non-nullable type. [/Users/apple/Dropbox/portfolio/CsSamples/CSharpBits/Tests/Tests.csproj]\n",
      "/Users/apple/Dropbox/portfolio/CsSamples/CSharpBits/Tests/Concurrency.cs(65,5): warning CS8602: Dereference of a possibly null reference. [/Users/apple/Dropbox/portfolio/CsSamples/CSharpBits/Tests/Tests.csproj]\n",
      "/Users/apple/Dropbox/portfolio/CsSamples/CSharpBits/Tests/Concurrency.cs(65,34): warning CS8604: Possible null reference argument for parameter 'source' in 'IEnumerable<char> Enumerable.Reverse<char>(IEnumerable<char> source)'. [/Users/apple/Dropbox/portfolio/CsSamples/CSharpBits/Tests/Tests.csproj]\n",
      "/Users/apple/Dropbox/portfolio/CsSamples/CSharpBits/Tests/SocketNetworking.cs(148,9): warning CS0162: Unreachable code detected [/Users/apple/Dropbox/portfolio/CsSamples/CSharpBits/Tests/Tests.csproj]\n",
      "/Users/apple/Dropbox/portfolio/CsSamples/CSharpBits/Tests/SocketNetworking.cs(223,9): warning xUnit2000: The literal or constant value \"Message One\" should be passed as the 'expected' argument in the call to 'Assert.Equal(expected, actual)' in method 'multiclient_tcp_server' on type 'SocketNetworking'. [/Users/apple/Dropbox/portfolio/CsSamples/CSharpBits/Tests/Tests.csproj]\n",
      "/Users/apple/Dropbox/portfolio/CsSamples/CSharpBits/Tests/SocketNetworking.cs(224,9): warning xUnit2000: The literal or constant value \"Message Two\" should be passed as the 'expected' argument in the call to 'Assert.Equal(expected, actual)' in method 'multiclient_tcp_server' on type 'SocketNetworking'. [/Users/apple/Dropbox/portfolio/CsSamples/CSharpBits/Tests/Tests.csproj]\n",
      "/Users/apple/Dropbox/portfolio/CsSamples/CSharpBits/Tests/XmlSerialization.cs(71,7): error CS0246: The type or namespace name 'Test' could not be found (are you missing a using directive or an assembly reference?) [/Users/apple/Dropbox/portfolio/CsSamples/CSharpBits/Tests/Tests.csproj]\n",
      "/Users/apple/Dropbox/portfolio/CsSamples/CSharpBits/Tests/XmlSerialization.cs(71,20): error CS0246: The type or namespace name 'Test' could not be found (are you missing a using directive or an assembly reference?) [/Users/apple/Dropbox/portfolio/CsSamples/CSharpBits/Tests/Tests.csproj]\n",
      "/Users/apple/Dropbox/portfolio/CsSamples/CSharpBits/Tests/XmlSerialization.cs(172,11): error CS1501: No overload for method 'Information' takes 0 arguments [/Users/apple/Dropbox/portfolio/CsSamples/CSharpBits/Tests/Tests.csproj]\n",
      "    24 Warning(s)\n",
      "    3 Error(s)\n",
      "\n",
      "Time Elapsed 00:00:01.33\n"
     ]
    }
   ],
   "source": [
    "t.build()"
   ]
  },
  {
   "cell_type": "code",
   "execution_count": null,
   "id": "eb385260",
   "metadata": {},
   "outputs": [],
   "source": [
    "t.test()"
   ]
  }
 ],
 "metadata": {
  "kernelspec": {
   "display_name": "Python 3.10.6 64-bit",
   "language": "python",
   "name": "python3"
  },
  "language_info": {
   "codemirror_mode": {
    "name": "ipython",
    "version": 3
   },
   "file_extension": ".py",
   "mimetype": "text/x-python",
   "name": "python",
   "nbconvert_exporter": "python",
   "pygments_lexer": "ipython3",
   "version": "3.10.6"
  },
  "vscode": {
   "interpreter": {
    "hash": "aee8b7b246df8f9039afb4144a1f6fd8d2ca17a180786b69acc140d282b71a49"
   }
  }
 },
 "nbformat": 4,
 "nbformat_minor": 5
}
